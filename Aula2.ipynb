{
 "cells": [
  {
   "cell_type": "markdown",
   "metadata": {},
   "source": [
    "**Abrir Ficheiro e ver os DataType das variaveis das colunas**"
   ]
  },
  {
   "cell_type": "code",
   "execution_count": null,
   "metadata": {},
   "outputs": [],
   "source": [
    "import pandas as pd\n",
    "\n",
    "file = pd.read_csv(r'C:\\Users\\HP\\Desktop\\Formação\\Eisnt\\UFCD 10809 - Visualização de dados em Python\\03 shopping_trends.csv')\n",
    "print(file.info())\n",
    "#print(file.columns())\n",
    "#print(file.head())\n",
    "#print(file.tail())\n",
    "#print(file.describe())"
   ]
  }
 ],
 "metadata": {
  "kernelspec": {
   "display_name": "Podinis",
   "language": "python",
   "name": "python3"
  },
  "language_info": {
   "codemirror_mode": {
    "name": "ipython",
    "version": 3
   },
   "file_extension": ".py",
   "mimetype": "text/x-python",
   "name": "python",
   "nbconvert_exporter": "python",
   "pygments_lexer": "ipython3",
   "version": "3.10.16"
  }
 },
 "nbformat": 4,
 "nbformat_minor": 2
}
