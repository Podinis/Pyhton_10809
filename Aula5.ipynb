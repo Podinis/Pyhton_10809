{
 "cells": [
  {
   "cell_type": "markdown",
   "id": "aa7a5dc0",
   "metadata": {},
   "source": [
    "# Novas bibliotecas waffle e wordcloud\n"
   ]
  },
  {
   "cell_type": "markdown",
   "id": "72b3eb66",
   "metadata": {},
   "source": [
    "## 🧩 PyWaffle - Teoria\n",
    "**PyWaffle** é uma biblioteca baseada em matplotlib para criar gráficos de waffle. Estes gráficos representam valores em grelhas de quadrados ou ícones e são ideais para visualizar proporções de categorias de forma clara e visual.\n",
    "\n",
    "**Principais parâmetros:**\n",
    "- `values`: dicionário com categorias e valores\n",
    "- `rows`: número de linhas da grelha\n",
    "- `labels`: rótulos informativos\n",
    "- `icons`: ícones Font Awesome (opcional)\n",
    "- `legend`, `title`: configurações visuais adicionais\n",
    "\n",
    "**Vantagens:**\n",
    "- Muito visual e apelativo\n",
    "- Ótimo para dashboards e relatórios executivos\n",
    "\n",
    "**Limitações:**\n",
    "- Não recomendado para categorias com valores muito pequenos\n",
    "- Pode distorcer perceção se não houver contexto adequado"
   ]
  },
  {
   "cell_type": "markdown",
   "id": "cd828d2f",
   "metadata": {},
   "source": [
    "## ☁️ WordCloud - Teoria\n",
    "**WordCloud** permite gerar representações gráficas da frequência de palavras num texto. Palavras mais frequentes são apresentadas com maior destaque.\n",
    "\n",
    "**Parâmetros importantes:**\n",
    "- `generate(texto)`: gera a nuvem a partir de uma string\n",
    "- `background_color`: cor de fundo (ex: 'white')\n",
    "- `colormap`: paleta de cores (ex: 'viridis')\n",
    "- `max_words`: número máximo de palavras\n",
    "- `stopwords`: palavras irrelevantes a ignorar\n",
    "- `width`, `height`: dimensões da imagem\n",
    "\n",
    "**Vantagens:**\n",
    "- Intuitivo e fácil de interpretar\n",
    "- Excelente para resumos visuais\n",
    "\n",
    "**Limitações:**\n",
    "- Perde o contexto\n",
    "- Pode necessitar de limpeza textual"
   ]
  },
  {
   "cell_type": "code",
   "execution_count": 1,
   "id": "4da9a2f6",
   "metadata": {},
   "outputs": [],
   "source": [
    "import pywaffle as waf  \n",
    "import matplotlib.pyplot as plt\n",
    "\n"
   ]
  }
 ],
 "metadata": {
  "kernelspec": {
   "display_name": "Podinis",
   "language": "python",
   "name": "python3"
  },
  "language_info": {
   "codemirror_mode": {
    "name": "ipython",
    "version": 3
   },
   "file_extension": ".py",
   "mimetype": "text/x-python",
   "name": "python",
   "nbconvert_exporter": "python",
   "pygments_lexer": "ipython3",
   "version": "3.10.16"
  }
 },
 "nbformat": 4,
 "nbformat_minor": 5
}
