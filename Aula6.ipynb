{
 "cells": [
  {
   "cell_type": "markdown",
   "id": "8e052978",
   "metadata": {},
   "source": [
    "## Visualização GeoEspacial\n",
    "- Vamos utilizar a biblioteca Folium\n",
    "- Exporta para HTML\n",
    "- Funcionalidades:\n",
    "        folium.Marker\n",
    "        folium.popup\n",
    "        folium.tooltip\n",
    "        folium.icon\n",
    "        GeoJson - desenha regiões \n",
    "        Choropleth - desenha mapas\n",
    "        mapa.save('teste.html')"
   ]
  },
  {
   "cell_type": "markdown",
   "id": "73f75dcd",
   "metadata": {},
   "source": [
    "### Criação de um mapa simples da area de casa"
   ]
  },
  {
   "cell_type": "code",
   "execution_count": 34,
   "id": "93bee204",
   "metadata": {},
   "outputs": [],
   "source": [
    "import folium as fm\n",
    "from folium import plugins\n",
    "\n",
    "mapa=fm.Map(location=[41.41589, -8.41609], zoom_start=18)\n",
    "fm.Marker (location=[41.41589, -8.41609],popup='Casa',tooltip='Clique para mostrar morada',icon=fm.Icon(color='blue', icon='home')).add_to(mapa)\n",
    "fm.Popup(\"Texto ou HTML\", max_width=300)\n",
    "\n",
    "mapa.save(r'C:\\Users\\HP\\Desktop\\Formação\\Eisnt\\UFCD 10809 - Visualização de dados em Python\\map.html')"
   ]
  },
  {
   "cell_type": "markdown",
   "id": "c21acdaf",
   "metadata": {},
   "source": [
    "#### Adicionar Circle\n",
    "\n",
    "Circle : radius raio em metros \n",
    "\n",
    "CircleMarker: raio em píxeis (fixo)"
   ]
  },
  {
   "cell_type": "code",
   "execution_count": 31,
   "id": "23d968ba",
   "metadata": {},
   "outputs": [],
   "source": [
    "fm.Circle(\n",
    "location=[41.41589, -8.41609],\n",
    "radius=100,\n",
    "color='blue',\n",
    "fill=True,\n",
    "fill_color='blue'\n",
    ").add_to(mapa)\n",
    "\n",
    "mapa.save(r'C:\\Users\\HP\\Desktop\\Formação\\Eisnt\\UFCD 10809 - Visualização de dados em Python\\map.html')"
   ]
  },
  {
   "cell_type": "markdown",
   "id": "17044897",
   "metadata": {},
   "source": [
    "Folium.plugins.MarkerCluster()"
   ]
  },
  {
   "cell_type": "code",
   "execution_count": 36,
   "id": "d9d0da47",
   "metadata": {},
   "outputs": [],
   "source": [
    "from folium.plugins import MarkerCluster\n",
    "cluster = MarkerCluster().add_to(mapa)\n",
    "fm.Marker([41.41589, -8.41609], popup=\"Cidade\").add_to(cluster)\n",
    "mapa.save(r'C:\\Users\\HP\\Desktop\\Formação\\Eisnt\\UFCD 10809 - Visualização de dados em Python\\map.html')"
   ]
  },
  {
   "cell_type": "markdown",
   "id": "9414f30f",
   "metadata": {},
   "source": [
    "## Exemplo Composto com todas as variaveis\n",
    "\n",
    "Exemplo 1: Mapa com Marcadores e Clusters\n",
    "Este exemplo cria um mapa com três cidades do Canadá, utilizando marcadores com tooltip e popup,\n",
    "agrupados com MarkerCluster.\n",
    "1. Criar DataFrame com cidades\n",
    "2. Criar mapa com folium.Map()\n",
    "3. Adicionar marcadores com folium.Marker()\n",
    "4. Agrupar com folium.plugins.MarkerCluster()\n",
    "5. Guardar com mapa.save()"
   ]
  },
  {
   "cell_type": "code",
   "execution_count": 49,
   "id": "84309984",
   "metadata": {},
   "outputs": [],
   "source": [
    "import folium as fm\n",
    "from folium.plugins import MarkerCluster\n",
    "import pandas as pd\n",
    "mapa = fm.Map(location=[56.1304, -106.3468], zoom_start=4, tiles='CartoDB positron')\n",
    "# Dados fictícios com location de varias cidades do Canadá\n",
    "dados = pd.DataFrame({\n",
    "                    'Cidade': ['Toronto', 'Vancouver', 'Montreal'],\n",
    "                    'Latitude': [43.651070, 49.282729, 45.501689],\n",
    "                    'Longitude': [-79.347015, -123.120738, -73.567256],\n",
    "                    'População': [2731571, 631486, 1704694]\n",
    "                    })\n",
    "\n",
    "cluster = MarkerCluster().add_to(mapa) # Cria o cluster para juntar tudo\n",
    "fm.Circle(location=[56.1304, -106.3468], radius=100, color='blue', fill=True, fill_color='blue').add_to(mapa) # Adiciona um circulo ao mapa\n",
    "\n",
    "\n",
    "#Ciclo para adicionar os marcadores ao mapa\n",
    "for i, row in dados.iterrows():\n",
    "    fm.Marker(\n",
    "            location=[row['Latitude'], row['Longitude']],\n",
    "            popup=f\"{row['Cidade']}<br>População: {row['População']}\",\n",
    "            tooltip=row['Cidade']\n",
    "            ).add_to(cluster)\n",
    "    \n",
    "\n",
    "# Cria as varias layers\n",
    "fm.LayerControl().add_to(mapa)\n",
    "mapa.save(r'C:\\Users\\HP\\Desktop\\Formação\\Eisnt\\UFCD 10809 - Visualização de dados em Python\\mapa_canada.html')"
   ]
  },
  {
   "cell_type": "markdown",
   "id": "1ea3b9ec",
   "metadata": {},
   "source": [
    "Exemplo 2: Mapa Choropleth com GeoJSON\n",
    "Este exemplo cria um mapa temático com dados de imigração, usando polígonos de províncias simuladas\n",
    "em GeoJSON.\n",
    "1. Criar DataFrame com dados de imigração\n",
    "2. Definir estrutura GeoJSON simplificada\n",
    "3. Criar mapa base\n",
    "4. Usar folium.Choropleth() para ligar os dados ao mapa\n",
    "5. Adicionar legenda"
   ]
  },
  {
   "cell_type": "code",
   "execution_count": 50,
   "id": "e69da930",
   "metadata": {},
   "outputs": [],
   "source": [
    "import folium as fm\n",
    "import json\n",
    "\n",
    "# Criar dados simulados de imigração por província\n",
    "imigracao_df = pd.DataFrame({\n",
    "                            'Provincia': ['Ontario', 'British Columbia', 'Quebec'],\n",
    "                            'Imigrantes': [150000, 90000, 120000]\n",
    "                            })\n",
    "\n",
    "# Criar um GeoJSON simplificado (simulado) com três províncias\n",
    "geojson_data = {\n",
    "            \"type\": \"FeatureCollection\",\n",
    "            \"features\": [\n",
    "                {\n",
    "                \"type\": \"Feature\",\n",
    "                \"properties\": {\"Provincia\": \"Ontario\"},\n",
    "                \"geometry\": {\n",
    "                            \"type\": \"Polygon\",\n",
    "                            \"coordinates\": [[\n",
    "                                [-95.0, 49.0],\n",
    "                                [-79.0, 49.0],\n",
    "                                [-79.0, 42.0],\n",
    "                                [-95.0, 42.0],\n",
    "                                [-95.0, 49.0]\n",
    "                                ]]\n",
    "                            }\n",
    "                },\n",
    "                {\n",
    "                \"type\": \"Feature\",\n",
    "                \"properties\": {\"Provincia\": \"British Columbia\"},\n",
    "                \"geometry\": {\n",
    "                            \"type\": \"Polygon\",\n",
    "                            \"coordinates\": [[\n",
    "                            [-125.0, 55.0],\n",
    "                            [-114.0, 55.0],\n",
    "                            [-114.0, 48.0],\n",
    "                            [-125.0, 48.0],\n",
    "                            [-125.0, 55.0]\n",
    "                            ]]\n",
    "                            }\n",
    "                },\n",
    "                {\n",
    "                \"type\": \"Feature\",\n",
    "                \"properties\": {\"Provincia\": \"Quebec\"},\n",
    "                \"geometry\": {\n",
    "                            \"type\": \"Polygon\",\n",
    "                            \"coordinates\": [[\n",
    "                            [-80.0, 55.0],\n",
    "                            [-60.0, 55.0],\n",
    "                            [-60.0, 45.0],\n",
    "                            [-80.0, 45.0],\n",
    "                            [-80.0, 55.0]\n",
    "                            ]]\n",
    "                            }\n",
    "                }\n",
    "            ]\n",
    "}\n",
    "\n",
    "# Criar o mapa base\n",
    "mapa_choropleth = fm.Map(location=[41.41589, -8.41609], zoom_start=4, tiles='CartoDBpositron')\n",
    "fm.Circle(\n",
    "        location=[41.41589, -8.41609],\n",
    "        radius=100,\n",
    "        color='blue',\n",
    "        fill=True,\n",
    "        fill_color='blue'\n",
    "        ).add_to(mapa)\n",
    "\n",
    "# Adicionar o choropleth barra \n",
    "fm.Choropleth(\n",
    "            geo_data=geojson_data,\n",
    "            name='Imigração por Província',\n",
    "            data=imigracao_df,\n",
    "            columns=['Provincia', 'Imigrantes'],\n",
    "            key_on='feature.properties.Provincia',\n",
    "            fill_color='BuPu',\n",
    "            fill_opacity=0.7,\n",
    "            line_opacity=0.2,\n",
    "            legend_name='Número de Imigrantes'\n",
    "            ).add_to(mapa_choropleth)\n",
    "\n",
    "# Guardar como ficheiro HTML\n",
    "choropleth_path =(r'C:\\Users\\HP\\Desktop\\Formação\\Eisnt\\UFCD 10809 - Visualização de dados em Python\\mapa_choropleth_canada.html')\n",
    "mapa_choropleth.save(choropleth_path)"
   ]
  },
  {
   "cell_type": "markdown",
   "id": "babef178",
   "metadata": {},
   "source": [
    "### GeoJson\n",
    "\n"
   ]
  },
  {
   "cell_type": "code",
   "execution_count": null,
   "id": "47d9a2a6",
   "metadata": {},
   "outputs": [],
   "source": [
    "#1. Exemplo simples de um ficheiro GeoJSON (manual)\n",
    "{\n",
    "\"type\": \"FeatureCollection\",\n",
    "\"features\": [\n",
    "{\n",
    "\"type\": \"Feature\",\n",
    "\"geometry\": {\n",
    "\"type\": \"Point\",\n",
    "\"coordinates\": [-8.611, 41.149]\n",
    "},\n",
    "\"properties\": {\n",
    "\"cidade\": \"Porto\"\n",
    "}\n",
    "}\n",
    "]\n",
    "}"
   ]
  },
  {
   "cell_type": "code",
   "execution_count": 64,
   "id": "53e10eed",
   "metadata": {},
   "outputs": [
    {
     "name": "stdout",
     "output_type": "stream",
     "text": [
      "   cidade               geometry\n",
      "0   Porto  POINT (-8.611 41.149)\n",
      "1  Lisboa  POINT (-9.139 38.722)\n",
      "2   Braga  POINT (-8.426 41.545)\n"
     ]
    }
   ],
   "source": [
    "import geopandas as gpd\n",
    "from shapely.geometry import Point\n",
    "# Criar uma GeoDataFrame com dados de cidades\n",
    "dados = {\n",
    "'cidade': ['Porto', 'Lisboa','Braga'],\n",
    "'geometry': [Point(-8.611, 41.149), Point(-9.139, 38.722),Point(-8.426, 41.545)]\n",
    "}\n",
    "gdp = gpd.GeoDataFrame(dados, crs=\"EPSG:4326\")\n",
    "# Guardar como ficheiro GeoJSON\n",
    "gdp.to_file(\"cidades.geojson\", driver=\"GeoJSON\")\n",
    "# Ver o GeoDataFrame\n",
    "print(gdp)"
   ]
  },
  {
   "cell_type": "markdown",
   "id": "bcef7a6a",
   "metadata": {},
   "source": [
    "## 4. Visualizar GeoJSON num mapa interativo com folium"
   ]
  },
  {
   "cell_type": "code",
   "execution_count": 52,
   "id": "fbe9cf0e",
   "metadata": {},
   "outputs": [],
   "source": [
    "import folium\n",
    "import geopandas as gpd\n",
    "# Carregar o ficheiro GeoJSON criado antes\n",
    "gdf = gpd.read_file(\"cidades.geojson\")\n",
    "# Criar mapa centrado em Portugal\n",
    "mapa = folium.Map(location=[39.5, -8.0], zoom_start=6)\n",
    "# Adicionar camada GeoJSON ao mapa\n",
    "folium.GeoJson(gdf).add_to(mapa)\n",
    "\n",
    "mapa.save(r'C:\\Users\\HP\\Desktop\\Formação\\Eisnt\\UFCD 10809 - Visualização de dados em Python\\norte.html')"
   ]
  },
  {
   "cell_type": "markdown",
   "id": "e9b9ff5a",
   "metadata": {},
   "source": [
    "Vamos agora ver exemplos práticos com linhas (LineString) e polígonos (Polygon) em GeoJSON, com o\n",
    "passo a passo para:\n",
    "1. Criar linhas (ex: uma estrada entre cidades)\n",
    "2. Criar polígonos (ex: zona urbana ou área de um parque)"
   ]
  },
  {
   "cell_type": "code",
   "execution_count": 55,
   "id": "ed84bade",
   "metadata": {},
   "outputs": [
    {
     "name": "stdout",
     "output_type": "stream",
     "text": [
      "                   nome                                   geometry\n",
      "0  Estrada Porto-Lisboa  LINESTRING (-8.611 41.149, -9.139 38.722)\n"
     ]
    }
   ],
   "source": [
    "import geopandas as gpd\n",
    "from shapely.geometry import LineString\n",
    "# Coordenadas de Porto e Lisboa\n",
    "linha = LineString([\n",
    "(-8.611, 41.149), # Porto\n",
    "(-9.139, 38.722) # Lisboa\n",
    "])\n",
    "# Criar GeoDataFrame com a linha\n",
    "gdf_linha = gpd.GeoDataFrame({'nome': ['Estrada Porto-Lisboa'], 'geometry': [linha]}, crs=\"EPSG:4326\")\n",
    "# Guardar como GeoJSON\n",
    "gdf_linha.to_file(r'C:\\Users\\HP\\Desktop\\Formação\\Eisnt\\UFCD 10809 - Visualização de dados em Python\\estrada.geojson', driver=\"GeoJSON\")\n",
    "\n",
    "print (gdf_linha)"
   ]
  },
  {
   "cell_type": "markdown",
   "id": "ee68eb08",
   "metadata": {},
   "source": [
    "Exemplo com Polygon (zona urbana imaginária)"
   ]
  },
  {
   "cell_type": "code",
   "execution_count": 56,
   "id": "901a743b",
   "metadata": {},
   "outputs": [
    {
     "name": "stdout",
     "output_type": "stream",
     "text": [
      "     zona                                           geometry\n",
      "0  Zona A  POLYGON ((-9.14 38.72, -9.13 38.72, -9.13 38.7...\n"
     ]
    }
   ],
   "source": [
    "from shapely.geometry import Polygon\n",
    "# Coordenadas dos vértices do polígono (formando um quadrado)\n",
    "poligono = Polygon([\n",
    "(-9.14, 38.72),\n",
    "(-9.13, 38.72),\n",
    "(-9.13, 38.73),\n",
    "(-9.14, 38.73),\n",
    "(-9.14, 38.72) # Fechar o polígono (volta ao início)\n",
    "])\n",
    "# Criar GeoDataFrame com o polígono\n",
    "gdf_poligono = gpd.GeoDataFrame({'zona': ['Zona A'] , 'geometry': [poligono]}, crs=\"EPSG:4326\")\n",
    "# Guardar como GeoJSON\n",
    "gdf_poligono.to_file(r'C:\\Users\\HP\\Desktop\\Formação\\Eisnt\\UFCD 10809 - Visualização de dados em Python\\zona.geojson', driver=\"GeoJSON\")\n",
    "\n",
    "print(gdf_poligono)"
   ]
  },
  {
   "cell_type": "markdown",
   "id": "2767dc21",
   "metadata": {},
   "source": [
    "Visualizar tudo num mapa com folium"
   ]
  },
  {
   "cell_type": "code",
   "execution_count": 59,
   "id": "fbae6cb2",
   "metadata": {},
   "outputs": [],
   "source": [
    "import folium\n",
    "\n",
    "# Mapa centrado em Portugal\n",
    "mapa = folium.Map(location=[39.5, -8.0], zoom_start=6)\n",
    "# Adicionar GeoJSON da estrada\n",
    "folium.GeoJson(r'C:\\Users\\HP\\Desktop\\Formação\\Eisnt\\UFCD 10809 - Visualização de dados em Python\\estrada.geojson', name=\"Estrada\").add_to(mapa)\n",
    "# Adicionar GeoJSON da zona\n",
    "folium.GeoJson(r'C:\\Users\\HP\\Desktop\\Formação\\Eisnt\\UFCD 10809 - Visualização de dados em Python\\zona.geojson', name=\"Zona\").add_to(mapa)\n",
    "# Adicionar camadas de controlo\n",
    "folium.LayerControl().add_to(mapa)\n",
    "# Mostrar (em Jupyter Notebook) ou guardar\n",
    "mapa.save(r'C:\\Users\\HP\\Desktop\\Formação\\Eisnt\\UFCD 10809 - Visualização de dados em Python\\mapa_completo.html')"
   ]
  },
  {
   "cell_type": "markdown",
   "id": "0a13d32e",
   "metadata": {},
   "source": [
    "Multipolígonos (MultiPolygon)"
   ]
  },
  {
   "cell_type": "code",
   "execution_count": 61,
   "id": "338c45d9",
   "metadata": {},
   "outputs": [
    {
     "name": "stdout",
     "output_type": "stream",
     "text": [
      "              zona                                           geometry\n",
      "0  Zonas Separadas  MULTIPOLYGON (((-9.2 38.7, -9.1 38.7, -9.1 38....\n"
     ]
    }
   ],
   "source": [
    "from shapely.geometry import MultiPolygon, Polygon\n",
    "import geopandas as gpd\n",
    "# Criar dois pequenos polígonos\n",
    "p1 = Polygon([(-9.2, 38.7), (-9.1, 38.7), (-9.1, 38.75), (-9.2, 38.75), (-9.2, 38.7)])\n",
    "p2 = Polygon([(-9.0, 38.7), (-8.9, 38.7), (-8.9, 38.75), (-9.0, 38.75), (-9.0, 38.7)])\n",
    "# Criar multipolígono\n",
    "multi = MultiPolygon([p1, p2])\n",
    "# Criar GeoDataFrame\n",
    "gdf_multi = gpd.GeoDataFrame({'zona': ['Zonas Separadas'], 'geometry': [multi]}, crs=\"EPSG:4326\")\n",
    "# Guardar como GeoJSON\n",
    "gdf_multi.to_file(\"multipoligono.geojson\", driver=\"GeoJSON\")\n",
    "\n",
    "print(gdf_multi)"
   ]
  },
  {
   "cell_type": "markdown",
   "id": "7f134b19",
   "metadata": {},
   "source": [
    "# Mapa HTML interativo com tudo\n",
    "\n",
    "Resumo final"
   ]
  },
  {
   "cell_type": "code",
   "execution_count": 63,
   "id": "d5036a85",
   "metadata": {},
   "outputs": [],
   "source": [
    "import geopandas as gpd\n",
    "from shapely.geometry import Point, LineString, Polygon, MultiPolygon\n",
    "import folium\n",
    "\n",
    "# ----------------------\n",
    "# Criar dados GeoEspaciais\n",
    "# ----------------------\n",
    "\n",
    "# 1. Cidades (Pontos)\n",
    "cidades = gpd.GeoDataFrame({\n",
    "                            'cidade': ['Porto', 'Lisboa'],\n",
    "                            'populacao': [230000, 500000],\n",
    "                            'geometry': [Point(-8.611, 41.149), Point(-9.139, 38.722)]\n",
    "                            }, crs=\"EPSG:4326\")\n",
    "\n",
    "cidades.to_file(\"cidades.geojson\", driver=\"GeoJSON\")\n",
    "\n",
    "# 2. Estrada (Linha)\n",
    "linha = gpd.GeoDataFrame({\n",
    "                        'nome': ['Estrada Porto-Lisboa'],\n",
    "                        'tipo': ['Autoestrada A1'],\n",
    "                        'geometry': [LineString([(-8.611, 41.149), (-9.139, 38.722)])]\n",
    "                        }, crs=\"EPSG:4326\")\n",
    "linha.to_file(\"estrada.geojson\", driver=\"GeoJSON\")\n",
    "\n",
    "# 3. Zona Urbana (Polígono)\n",
    "zona = gpd.GeoDataFrame({\n",
    "                        'zona': ['Urbana Centro'],\n",
    "                        'uso': ['Residencial'],\n",
    "                        'geometry': [Polygon([\n",
    "                        (-9.14, 38.72), (-9.13, 38.72),\n",
    "                        (-9.13, 38.73), (-9.14, 38.73),\n",
    "                        (-9.14, 38.72)\n",
    "                        ])]\n",
    "                        }, crs=\"EPSG:4326\")\n",
    "zona.to_file(\"zona.geojson\", driver=\"GeoJSON\")\n",
    "\n",
    "# 4. MultiPolígono (Duas zonas separadas)\n",
    "p1 = Polygon([(-9.2, 38.7), (-9.1, 38.7), (-9.1, 38.75), (-9.2, 38.75), (-9.2, 38.7)])\n",
    "p2 = Polygon([(-9.0, 38.7), (-8.9, 38.7), (-8.9, 38.75), (-9.0, 38.75), (-9.0, 38.7)])\n",
    "\n",
    "multi = MultiPolygon([p1, p2])\n",
    "multipoligono = gpd.GeoDataFrame({\n",
    "                                'zona': ['Reserva Natural'],\n",
    "                                'uso': ['Protegido'],\n",
    "                                'geometry': [multi]\n",
    "                                }, crs=\"EPSG:4326\")\n",
    "multipoligono.to_file(\"multipoligono.geojson\", driver=\"GeoJSON\")\n",
    "\n",
    "\n",
    "# ----------------------\n",
    "# Criar Mapa com Folium\n",
    "# ----------------------\n",
    "\n",
    "mapa = folium.Map(location=[39.5, -8.0], zoom_start=6)\n",
    "\n",
    "# Adicionar cidades (pontos)\n",
    "folium.GeoJson(\n",
    "            \"cidades.geojson\",\n",
    "            name=\"Cidades\",\n",
    "            style_function=lambda f: {'color': 'blue'},\n",
    "            marker=folium.CircleMarker(radius=6),\n",
    "            tooltip=folium.GeoJsonTooltip(fields=[\"cidade\", \"populacao\"], aliases=[\"Cidade:\", \"População:\"]),\n",
    "            popup=folium.GeoJsonPopup(fields=[\"cidade\", \"populacao\"])\n",
    "            ).add_to(mapa)\n",
    "\n",
    "# Adicionar estrada (linha)\n",
    "folium.GeoJson(\n",
    "            \"estrada.geojson\",\n",
    "            name=\"Estrada\",\n",
    "            style_function=lambda f: {'color': 'red', 'weight': 3},\n",
    "            tooltip=folium.GeoJsonTooltip(fields=[\"nome\", \"tipo\"], aliases=[\"Nome:\", \"Tipo:\"]),\n",
    "            popup=folium.GeoJsonPopup(fields=[\"nome\", \"tipo\"])\n",
    "            ).add_to(mapa)\n",
    "\n",
    "# Adicionar zona urbana (polígono)\n",
    "folium.GeoJson(\n",
    "            \"zona.geojson\",\n",
    "            name=\"Zona Urbana\",\n",
    "            style_function=lambda f: {'fillColor': 'orange', 'color': 'brown', 'fillOpacity': 0.5},\n",
    "            tooltip=folium.GeoJsonTooltip(fields=[\"zona\", \"uso\"], aliases=[\"Zona:\", \"Uso:\"]),\n",
    "            popup=folium.GeoJsonPopup(fields=[\"zona\", \"uso\"])\n",
    "            ).add_to(mapa)\n",
    "\n",
    "# Adicionar multipolígono\n",
    "folium.GeoJson(\n",
    "            \"multipoligono.geojson\",\n",
    "            name=\"Reserva Natural\",\n",
    "            style_function=lambda f: {'fillColor': 'green', 'color': 'darkgreen', 'fillOpacity': 0.4},\n",
    "            tooltip=folium.GeoJsonTooltip(fields=[\"zona\", \"uso\"], aliases=[\"Zona:\", \"Uso:\"]),\n",
    "            popup=folium.GeoJsonPopup(fields=[\"zona\", \"uso\"])\n",
    "            ).add_to(mapa)\n",
    "\n",
    "# Adicionar controlo de camadas\n",
    "folium.LayerControl().add_to(mapa)\n",
    "\n",
    "# Guardar o mapa\n",
    "mapa.save(r'C:\\Users\\HP\\Desktop\\Formação\\Eisnt\\UFCD 10809 - Visualização de dados em Python\\mapa_interativo_completo.html')"
   ]
  }
 ],
 "metadata": {
  "kernelspec": {
   "display_name": "Podinis",
   "language": "python",
   "name": "python3"
  },
  "language_info": {
   "codemirror_mode": {
    "name": "ipython",
    "version": 3
   },
   "file_extension": ".py",
   "mimetype": "text/x-python",
   "name": "python",
   "nbconvert_exporter": "python",
   "pygments_lexer": "ipython3",
   "version": "3.10.16"
  }
 },
 "nbformat": 4,
 "nbformat_minor": 5
}
